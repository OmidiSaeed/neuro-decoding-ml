{
 "cells": [
  {
   "metadata": {
    "ExecuteTime": {
     "end_time": "2025-09-23T17:54:39.837770Z",
     "start_time": "2025-09-23T17:54:37.579770Z"
    }
   },
   "cell_type": "code",
   "source": [
    "import warnings\n",
    "warnings.filterwarnings(\"ignore\")\n",
    "import dataset_utils"
   ],
   "id": "209930cdff691877",
   "outputs": [
    {
     "name": "stdout",
     "output_type": "stream",
     "text": [
      "Your allensdk version is: 2.16.2\n"
     ]
    }
   ],
   "execution_count": 1
  },
  {
   "metadata": {
    "ExecuteTime": {
     "end_time": "2025-09-23T17:54:43.223741Z",
     "start_time": "2025-09-23T17:54:42.333992Z"
    }
   },
   "cell_type": "code",
   "source": [
    "# Step 1: Load cache\n",
    "\n",
    "import os\n",
    "from pathlib import Path\n",
    "current_directory = Path.cwd()\n",
    "print(current_directory)\n",
    "cache_dir = current_directory / \"cache_dir\"\n",
    "os.makedirs(cache_dir, exist_ok=True)\n",
    "cache = dataset_utils.load_cache(cache_dir)\n"
   ],
   "id": "1dee94ab0fe60666",
   "outputs": [
    {
     "name": "stdout",
     "output_type": "stream",
     "text": [
      "/Users/saeedomidi/Documents/Lehigh Research/Cell Images/Optogenetic recordings/pattern-recognition/Codes/python codes/neuro-decoding-ml\n"
     ]
    }
   ],
   "execution_count": 2
  },
  {
   "metadata": {
    "ExecuteTime": {
     "end_time": "2025-09-23T17:54:45.108876Z",
     "start_time": "2025-09-23T17:54:45.092652Z"
    }
   },
   "cell_type": "code",
   "source": [
    "# Step 2: Fetch ophys experiment table and join cell_counts with index of experiment id\n",
    "ophys_table = dataset_utils.get_ophys_table_with_cellcount(cache)\n",
    "\n",
    "# Step 3: Select a passive experiment with cell_counts >= 100\n",
    "ophys_table_filtered = dataset_utils.filter_ophys_experiments(ophys_table, passive=\"passive\"\"passive\", min_cell_count=100)\n",
    "\n",
    "# Step 4: Load the experiment\n",
    "ophys_exp_id = int(ophys_table_filtered.iloc[3].name)\n",
    "print(\"Loading example ophys_experiment_id = \", ophys_exp_id)\n",
    "experiment = dataset_utils.load_experiment(cache, ophys_exp_id)\n",
    "\n",
    "# Step 5: Build structured dataset\n",
    "X_trials, y = dataset_utils.build_trial_dataset(experiment)\n",
    "print('X_trials shape: ', X_trials.shape)\n",
    "print('y shape: ', y.shape)"
   ],
   "id": "6718f76d6e760d5",
   "outputs": [
    {
     "name": "stdout",
     "output_type": "stream",
     "text": [
      "Loading example ophys_experiment_id =  994955433\n"
     ]
    }
   ],
   "execution_count": 3
  }
 ],
 "metadata": {
  "kernelspec": {
   "display_name": "allensdk",
   "language": "python",
   "name": "allensdk"
  },
  "language_info": {
   "codemirror_mode": {
    "name": "ipython",
    "version": 2
   },
   "file_extension": ".py",
   "mimetype": "text/x-python",
   "name": "python",
   "nbconvert_exporter": "python",
   "pygments_lexer": "ipython2",
   "version": "2.7.6"
  }
 },
 "nbformat": 4,
 "nbformat_minor": 5
}
